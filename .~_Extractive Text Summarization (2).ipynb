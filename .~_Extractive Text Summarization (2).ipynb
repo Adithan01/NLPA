{
 "cells": [
  {
   "cell_type": "code",
   "execution_count": 1,
   "id": "4dc15761",
   "metadata": {},
   "outputs": [
    {
     "name": "stderr",
     "output_type": "stream",
     "text": [
      "C:\\Users\\Agilan M A\\AppData\\Local\\Temp\\ipykernel_4552\\2080034654.py:2: DeprecationWarning: \n",
      "Pyarrow will become a required dependency of pandas in the next major release of pandas (pandas 3.0),\n",
      "(to allow more performant data types, such as the Arrow string type, and better interoperability with other libraries)\n",
      "but was not found to be installed on your system.\n",
      "If this would cause problems for you,\n",
      "please provide us feedback at https://github.com/pandas-dev/pandas/issues/54466\n",
      "        \n",
      "  import pandas as pd\n"
     ]
    }
   ],
   "source": [
    "import numpy as np\n",
    "import pandas as pd\n",
    "import matplotlib.pyplot as plt"
   ]
  },
  {
   "cell_type": "markdown",
   "id": "38011620",
   "metadata": {},
   "source": [
    "### Corpus Creation"
   ]
  },
  {
   "cell_type": "code",
   "execution_count": 3,
   "id": "9c5ed11d",
   "metadata": {},
   "outputs": [
    {
     "name": "stdout",
     "output_type": "stream",
     "text": [
      "Number of Articles :  337\n"
     ]
    }
   ],
   "source": [
    "df = pd.read_csv(\"articles.csv\")\n",
    "data = df[\"text\"].values\n",
    "\n",
    "print(\"Number of Articles : \", len(data))"
   ]
  },
  {
   "cell_type": "markdown",
   "id": "5b45f2d7",
   "metadata": {},
   "source": [
    "#### Pre-Processing"
   ]
  },
  {
   "cell_type": "code",
   "execution_count": 4,
   "id": "a527ab95",
   "metadata": {
    "scrolled": true
   },
   "outputs": [
    {
     "name": "stdout",
     "output_type": "stream",
     "text": [
      "Number of Sentences in Corpus :  32376\n"
     ]
    }
   ],
   "source": [
    "import re\n",
    "from nltk.tokenize import sent_tokenize\n",
    "\n",
    "def pre_processing(text):\n",
    "    \n",
    "    # text to sentence\n",
    "    tokenized = sent_tokenize(text)\n",
    "    \n",
    "    # Remove Punctuation\n",
    "    # Lower Case \n",
    "    # Strip White Spaces\n",
    "    pattern   = re.compile(r'[^a-zA-Z0-9\\s]')\n",
    "    tokenized = [pattern.sub('', sent).strip().lower() for sent in tokenized]\n",
    "    \n",
    "    return tokenized\n",
    "\n",
    "corpus = []\n",
    "for doc in data:\n",
    "    corpus.extend(pre_processing(doc))\n",
    "    \n",
    "print(\"Number of Sentences in Corpus : \", len(corpus))"
   ]
  },
  {
   "cell_type": "markdown",
   "id": "53b12a93",
   "metadata": {},
   "source": [
    "### Pre-Processing on Input Text"
   ]
  },
  {
   "cell_type": "code",
   "execution_count": 128,
   "id": "ec8beed9",
   "metadata": {},
   "outputs": [],
   "source": [
    "input_text = \"\"\"\n",
    "\u0013 Education\n",
    "Shiv Nadar University Chennai Chennai\n",
    "B.Tech Artificial Intelligence and Data Science 2021 - 2025\n",
    "• Activities: President of SNUC Art Club, Active member at SNU Coding club, Volunteer at NSO.\n",
    "\u000b",
    " Internship\n",
    "Circular Edge Solution Pvt Ltd. May 2023\n",
    "Data Engineer Chennai\n",
    "• Trained on company’s application AtomIQ for visualization creation and dashboard building within DI-Studio.\n",
    "• Demonstrated proficiency in creating objects and conducting basic testing within the company’s mobile application\n",
    "• Integrated acquired training to map visualizations and dashboards from DI-Studio to the company’s mobile app.\n",
    "§ Projects\n",
    "EmoSense | BERT, BeautifulSoup, Scikit-learn, Tensorflow, Python Link to Demo ®\n",
    "• Developed a BERT-based sentiment analysis chatbot system for diverse textual inputs.\n",
    "• Employed advanced text preprocessing techniques to enhance input data quality, thereby improving the model’s\n",
    "accuracy and robustness.\n",
    "• Utilized advanced visualization tools to offer intuitive insights into sentiment trends and patterns.\n",
    "• Achieved outstanding accuracy rates, through model fine-tuning and optimization, ensuring dependable sentiment\n",
    "predictions.\n",
    "Text2Img | GANs, Pytorch, Python Link to Demo ®\n",
    "• Developed a PyTorch-based application for generating images from textual prompts utilizing Generative\n",
    "Adversarial Networks (GANs).\n",
    "• Implemented a Generator to create images from noise and prompts, alongside a Discriminator to distinguish\n",
    "between real and fake images.\n",
    "• Applied in diverse creative tasks and advanced data augmentation techniques in computer vision, enhancing model\n",
    "performance and promoting artistic exploration.\n",
    "Poetify | RNNs, GRU, Tensorflow, Python Link to Demo ®\n",
    "• Developed a poetry generation application utilizing Recurrent Neural Networks (RNNs) implemented with Keras\n",
    "and TensorFlow.\n",
    "• Trained the RNN model on a dataset of poems to capture intricate patterns and structures of poetry.\n",
    "• Leveraged the analysis of character sequences to generate new poems with coherent styles and themes.\n",
    "PlateVisionizer | CNNs, Tesseract OCR, Tensorflow, Python Link to Demo ®\n",
    "• Developed an Automated License Plate Recognition system for license plate extraction and character recognition.\n",
    "• Implemented Convolutional Neural Network (CNN) to recognize number plates in vehicle images.\n",
    "• Integrated Tesseract OCR library to achieve 90 percent accuracy in character recognition.\n",
    "% Technical Skills\n",
    "Languages: Python, C, MySQL, JavaScript, HTML/CSS, ReactJS.\n",
    "Developer Tools: Tableau, SQL, VS Code, Figma, Jupyter Notebook.\n",
    "Technologies: Scikit-learn, TensorFlow, PyTorch, Keras, OpenCV, SpaCy, Tessaract and NLTK.\n",
    "\u0014 Certifications\n",
    "Microsoft: Career Essentials in Data Analysis.\n",
    "University of Michigan: Applied Machine Learning in Python.\n",
    "LinkedIn: Computer Vision Deep Dive in Python, Natural Language Processing with TensorFlow.\n",
    "University of Texas: Problem solving in Python.\n",
    "\"\"\"\n",
    "\n",
    "input_text = input_text.replace(\"\\n\", \" \")\n",
    "sentences = sent_tokenize(input_text)\n",
    "input_tok = pre_processing(input_text)"
   ]
  },
  {
   "cell_type": "code",
   "execution_count": 7,
   "id": "b5c8a4ec-1b63-432b-a83b-6197e94a131e",
   "metadata": {},
   "outputs": [
    {
     "name": "stdout",
     "output_type": "stream",
     "text": [
      "Collecting rouge-scoreNote: you may need to restart the kernel to use updated packages.\n",
      "\n",
      "  Downloading rouge_score-0.1.2.tar.gz (17 kB)\n",
      "  Preparing metadata (setup.py): started\n",
      "  Preparing metadata (setup.py): finished with status 'done'\n",
      "Requirement already satisfied: absl-py in c:\\users\\agilan m a\\appdata\\local\\programs\\python\\python312\\lib\\site-packages (from rouge-score) (2.1.0)\n",
      "Requirement already satisfied: nltk in c:\\users\\agilan m a\\appdata\\local\\programs\\python\\python312\\lib\\site-packages (from rouge-score) (3.8.1)\n",
      "Requirement already satisfied: numpy in c:\\users\\agilan m a\\appdata\\local\\programs\\python\\python312\\lib\\site-packages (from rouge-score) (1.26.3)\n",
      "Requirement already satisfied: six>=1.14.0 in c:\\users\\agilan m a\\appdata\\local\\programs\\python\\python312\\lib\\site-packages (from rouge-score) (1.16.0)\n",
      "Requirement already satisfied: click in c:\\users\\agilan m a\\appdata\\local\\programs\\python\\python312\\lib\\site-packages (from nltk->rouge-score) (8.1.7)\n",
      "Requirement already satisfied: joblib in c:\\users\\agilan m a\\appdata\\local\\programs\\python\\python312\\lib\\site-packages (from nltk->rouge-score) (1.3.2)\n",
      "Requirement already satisfied: regex>=2021.8.3 in c:\\users\\agilan m a\\appdata\\local\\programs\\python\\python312\\lib\\site-packages (from nltk->rouge-score) (2023.12.25)\n",
      "Requirement already satisfied: tqdm in c:\\users\\agilan m a\\appdata\\local\\programs\\python\\python312\\lib\\site-packages (from nltk->rouge-score) (4.66.1)\n",
      "Requirement already satisfied: colorama in c:\\users\\agilan m a\\appdata\\local\\programs\\python\\python312\\lib\\site-packages (from click->nltk->rouge-score) (0.4.6)\n",
      "Building wheels for collected packages: rouge-score\n",
      "  Building wheel for rouge-score (setup.py): started\n",
      "  Building wheel for rouge-score (setup.py): finished with status 'done'\n",
      "  Created wheel for rouge-score: filename=rouge_score-0.1.2-py3-none-any.whl size=24972 sha256=630a0ec32dc88bfa728a374db764575c9f9128430243aa74391577f5720401f0\n",
      "  Stored in directory: c:\\users\\agilan m a\\appdata\\local\\pip\\cache\\wheels\\85\\9d\\af\\01feefbe7d55ef5468796f0c68225b6788e85d9d0a281e7a70\n",
      "Successfully built rouge-score\n",
      "Installing collected packages: rouge-score\n",
      "Successfully installed rouge-score-0.1.2\n"
     ]
    }
   ],
   "source": [
    "pip install rouge-score"
   ]
  },
  {
   "cell_type": "markdown",
   "id": "91221208",
   "metadata": {},
   "source": [
    "### ROUGE Score"
   ]
  },
  {
   "cell_type": "code",
   "execution_count": 110,
   "id": "ea1b77e6",
   "metadata": {},
   "outputs": [],
   "source": [
    "from rouge_score import rouge_scorer\n",
    "\n",
    "expected = \"\"\"\n",
    "Education: Holds an M.S. in Public Administration, Government Law from Sul Ross University and \n",
    "a B.S. in Psychology, Education from Morgan State University. Specialized Training includes Security+, \n",
    "Cyber 200, Basic Computer Operations, DISA Action Officers, DOD Information Assurance Boot Camp, and \n",
    "Computer Network Defense/Threat courses. Skills encompass Air Force operations, hardware, \n",
    "software development, and project management. Professional Experience: Currently serving as a \n",
    "Branch Chief Information Technology Specialist, overseeing enterprise-level IT programs for the Air Force, \n",
    "with a TOP SECRET (SCI) clearance. Proficient in Office of Management and Budget (OMB), Department of Defense (DoD), \n",
    "and U.S. Air Force regulations. Expertise includes crisis action planning, cyber operations, and collaboration with \n",
    "government partners on Global Information Grid (GIG) operations. Demonstrates exceptional managerial \n",
    "and communication skills, contributing to impactful outcomes through multifaceted experience and education. \n",
    "Responsibilities also include software development analysis and comprehensive planning for computer network operations.\n",
    "\"\"\"\n",
    "\n",
    "expected = expected.replace(\"\\n\", \" \").strip()\n",
    "\n",
    "def rouge_metrics(summary):\n",
    "    \n",
    "    scorer = rouge_scorer.RougeScorer(['rouge1'], use_stemmer=True)\n",
    "    scores = scorer.score(summary, expected)\n",
    "    \n",
    "    print(\"Rouge Score : \", scores, end=\"\\n\\n\")"
   ]
  },
  {
   "cell_type": "markdown",
   "id": "774a7afc",
   "metadata": {},
   "source": [
    "### Summarize Function"
   ]
  },
  {
   "cell_type": "code",
   "execution_count": 144,
   "id": "f245b8a0",
   "metadata": {},
   "outputs": [],
   "source": [
    "from sklearn.metrics.pairwise import cosine_similarity\n",
    "import networkx as nx\n",
    "\n",
    "def summarize(input_vec):\n",
    "    # Cosine Similarity\n",
    "    similarity_matrix = cosine_similarity(input_vec, input_vec)\n",
    "\n",
    "    # Matrix to Graph\n",
    "    G = nx.from_numpy_array(similarity_matrix)\n",
    "\n",
    "    # PageRank Algorithm\n",
    "    pagerank_scores = nx.pagerank(G)\n",
    "\n",
    "    # Sort sentences based on PageRank Scores\n",
    "    sorted_sentences = sorted(pagerank_scores, key=pagerank_scores.get, reverse=True)\n",
    "\n",
    "    # Select top 10 \n",
    "    top_k = 4\n",
    "    summary = [sentences[i] for i in sorted_sentences[:top_k]]\n",
    "\n",
    "    rouge_metrics(\" \".join(summary))\n",
    "    print(\" \".join(summary))"
   ]
  },
  {
   "cell_type": "markdown",
   "id": "982996da",
   "metadata": {},
   "source": [
    "### Vectorization"
   ]
  },
  {
   "cell_type": "markdown",
   "id": "d6705133",
   "metadata": {},
   "source": [
    "#### Bag of Words"
   ]
  },
  {
   "cell_type": "code",
   "execution_count": 145,
   "id": "1b5c865e",
   "metadata": {},
   "outputs": [],
   "source": [
    "from sklearn.feature_extraction.text import CountVectorizer\n",
    "\n",
    "bag_of_words = CountVectorizer()\n",
    "\n",
    "corpus_bow = bag_of_words.fit_transform(corpus)\n",
    "input_bow  = bag_of_words.transform(input_tok)"
   ]
  },
  {
   "cell_type": "code",
   "execution_count": 146,
   "id": "8550d468",
   "metadata": {},
   "outputs": [
    {
     "name": "stdout",
     "output_type": "stream",
     "text": [
      "Rouge Score :  {'rouge1': Score(precision=0.18120805369127516, recall=0.28421052631578947, fmeasure=0.22131147540983606)}\n",
      "\n",
      "Poetify | RNNs, GRU, Tensorflow, Python Link to Demo ® • Developed a poetry generation application utilizing Recurrent Neural Networks (RNNs) implemented with Keras and TensorFlow. • Applied in diverse creative tasks and advanced data augmentation techniques in computer vision, enhancing model performance and promoting artistic exploration. • Demonstrated proficiency in creating objects and conducting basic testing within the company’s mobile application • Integrated acquired training to map visualizations and dashboards from DI-Studio to the company’s mobile app. • Implemented a Generator to create images from noise and prompts, alongside a Discriminator to distinguish between real and fake images.\n"
     ]
    }
   ],
   "source": [
    "summarize(input_bow)"
   ]
  },
  {
   "cell_type": "code",
   "execution_count": 150,
   "id": "b90006c0-a889-4f3c-8a47-a23b84c46225",
   "metadata": {
    "scrolled": true
   },
   "outputs": [
    {
     "name": "stdout",
     "output_type": "stream",
     "text": [
      "Cosine Similarity Matrix - Bag of Words:\n",
      "[[1.         0.10540926 0.07254763 0.         0.10846523 0.06201737\n",
      "  0.06454972 0.         0.09128709 0.13693064 0.04472136 0.15811388\n",
      "  0.11547005 0.04303315 0.         0.         0.         0.\n",
      "  0.0745356  0.09128709 0.15811388 0.         0.16903085]\n",
      " [0.10540926 1.         0.22941573 0.05892557 0.11433239 0.13074409\n",
      "  0.06804138 0.1028689  0.09622504 0.14433757 0.0942809  0.16666667\n",
      "  0.06085806 0.09072184 0.         0.         0.         0.\n",
      "  0.07856742 0.09622504 0.         0.         0.        ]\n",
      " [0.07254763 0.22941573 1.         0.08111071 0.23606684 0.17996851\n",
      "  0.09365858 0.14159847 0.29801978 0.19867985 0.16222142 0.22941573\n",
      "  0.25131234 0.12487811 0.14048787 0.1956464  0.         0.\n",
      "  0.10814761 0.06622662 0.05735393 0.04682929 0.06131393]\n",
      " [0.         0.05892557 0.08111071 1.         0.06063391 0.13867505\n",
      "  0.07216878 0.38188131 0.10206207 0.05103104 0.35       0.05892557\n",
      "  0.12909944 0.38490018 0.07216878 0.07537784 0.09449112 0.\n",
      "  0.16666667 0.10206207 0.08838835 0.14433757 0.09449112]\n",
      " [0.10846523 0.11433239 0.23606684 0.06063391 1.         0.20180184\n",
      "  0.14002801 0.05292561 0.19802951 0.24753689 0.09701425 0.17149859\n",
      "  0.18786729 0.09335201 0.070014   0.14625448 0.         0.\n",
      "  0.08084521 0.09901475 0.         0.         0.        ]\n",
      " [0.06201737 0.13074409 0.17996851 0.13867505 0.20180184 1.\n",
      "  0.16012815 0.06052275 0.22645541 0.16984156 0.11094004 0.19611614\n",
      "  0.14322297 0.1067521  0.08006408 0.0836242  0.         0.09805807\n",
      "  0.09245003 0.         0.         0.         0.        ]\n",
      " [0.06454972 0.06804138 0.09365858 0.07216878 0.14002801 0.16012815\n",
      "  1.         0.         0.11785113 0.1767767  0.05773503 0.13608276\n",
      "  0.0745356  0.05555556 0.         0.08703883 0.         0.\n",
      "  0.09622504 0.         0.         0.         0.        ]\n",
      " [0.         0.1028689  0.14159847 0.38188131 0.05292561 0.06052275\n",
      "  0.         1.         0.26726124 0.         0.34914862 0.05143445\n",
      "  0.05634362 0.25197632 0.12598816 0.06579517 0.08247861 0.\n",
      "  0.0727393  0.         0.07715167 0.06299408 0.08247861]\n",
      " [0.09128709 0.09622504 0.29801978 0.10206207 0.19802951 0.22645541\n",
      "  0.11785113 0.26726124 1.         0.16666667 0.20412415 0.19245009\n",
      "  0.21081851 0.15713484 0.29462783 0.12309149 0.         0.\n",
      "  0.13608276 0.         0.         0.         0.        ]\n",
      " [0.13693064 0.14433757 0.19867985 0.05103104 0.24753689 0.16984156\n",
      "  0.1767767  0.         0.16666667 1.         0.08164966 0.14433757\n",
      "  0.10540926 0.07856742 0.11785113 0.12309149 0.         0.\n",
      "  0.13608276 0.25       0.21650635 0.23570226 0.15430335]\n",
      " [0.04472136 0.0942809  0.16222142 0.35       0.09701425 0.11094004\n",
      "  0.05773503 0.34914862 0.20412415 0.08164966 1.         0.14142136\n",
      "  0.15491933 0.30792014 0.17320508 0.06030227 0.07559289 0.\n",
      "  0.26666667 0.         0.07071068 0.23094011 0.07559289]\n",
      " [0.15811388 0.16666667 0.22941573 0.05892557 0.17149859 0.19611614\n",
      "  0.13608276 0.05143445 0.19245009 0.14433757 0.14142136 1.\n",
      "  0.36514837 0.09072184 0.06804138 0.07106691 0.         0.\n",
      "  0.07856742 0.         0.16666667 0.         0.17817416]\n",
      " [0.11547005 0.06085806 0.25131234 0.12909944 0.18786729 0.14322297\n",
      "  0.0745356  0.05634362 0.21081851 0.10540926 0.15491933 0.36514837\n",
      "  1.         0.1490712  0.0745356  0.15569979 0.         0.\n",
      "  0.0860663  0.10540926 0.09128709 0.0745356  0.09759001]\n",
      " [0.04303315 0.09072184 0.12487811 0.38490018 0.09335201 0.1067521\n",
      "  0.05555556 0.25197632 0.15713484 0.07856742 0.30792014 0.09072184\n",
      "  0.1490712  1.         0.05555556 0.29012943 0.0727393  0.\n",
      "  0.12830006 0.         0.06804138 0.11111111 0.0727393 ]\n",
      " [0.         0.         0.14048787 0.07216878 0.070014   0.08006408\n",
      "  0.         0.12598816 0.29462783 0.11785113 0.17320508 0.06804138\n",
      "  0.0745356  0.05555556 1.         0.17407766 0.         0.\n",
      "  0.         0.11785113 0.10206207 0.08333333 0.10910895]\n",
      " [0.         0.         0.1956464  0.07537784 0.14625448 0.0836242\n",
      "  0.08703883 0.06579517 0.12309149 0.12309149 0.06030227 0.07106691\n",
      "  0.15569979 0.29012943 0.17407766 1.         0.         0.\n",
      "  0.         0.12309149 0.10660036 0.08703883 0.11396058]\n",
      " [0.         0.         0.         0.09449112 0.         0.\n",
      "  0.         0.08247861 0.         0.         0.07559289 0.\n",
      "  0.         0.0727393  0.         0.         1.         0.\n",
      "  0.         0.         0.13363062 0.10910895 0.14285714]\n",
      " [0.         0.         0.         0.         0.         0.09805807\n",
      "  0.         0.         0.         0.         0.         0.\n",
      "  0.         0.         0.         0.         0.         1.\n",
      "  0.         0.         0.         0.         0.        ]\n",
      " [0.0745356  0.07856742 0.10814761 0.16666667 0.08084521 0.09245003\n",
      "  0.09622504 0.0727393  0.13608276 0.13608276 0.26666667 0.07856742\n",
      "  0.0860663  0.12830006 0.         0.         0.         0.\n",
      "  1.         0.         0.         0.09622504 0.        ]\n",
      " [0.09128709 0.09622504 0.06622662 0.10206207 0.09901475 0.\n",
      "  0.         0.         0.         0.25       0.         0.\n",
      "  0.10540926 0.         0.11785113 0.12309149 0.         0.\n",
      "  0.         1.         0.14433757 0.11785113 0.15430335]\n",
      " [0.15811388 0.         0.05735393 0.08838835 0.         0.\n",
      "  0.         0.07715167 0.         0.21650635 0.07071068 0.16666667\n",
      "  0.09128709 0.06804138 0.10206207 0.10660036 0.13363062 0.\n",
      "  0.         0.14433757 1.         0.20412415 0.53452248]\n",
      " [0.         0.         0.04682929 0.14433757 0.         0.\n",
      "  0.         0.06299408 0.         0.23570226 0.23094011 0.\n",
      "  0.0745356  0.11111111 0.08333333 0.08703883 0.10910895 0.\n",
      "  0.09622504 0.11785113 0.20412415 1.         0.21821789]\n",
      " [0.16903085 0.         0.06131393 0.09449112 0.         0.\n",
      "  0.         0.08247861 0.         0.15430335 0.07559289 0.17817416\n",
      "  0.09759001 0.0727393  0.10910895 0.11396058 0.14285714 0.\n",
      "  0.         0.15430335 0.53452248 0.21821789 1.        ]]\n"
     ]
    }
   ],
   "source": [
    "similarity_matrix_bow = summarize(input_bow)\n",
    "print(\"Cosine Similarity Matrix - Bag of Words:\")\n",
    "print(similarity_matrix_bow)"
   ]
  },
  {
   "cell_type": "markdown",
   "id": "985abba1",
   "metadata": {},
   "source": [
    "#### TF - IDF"
   ]
  },
  {
   "cell_type": "code",
   "execution_count": 148,
   "id": "3ca8acc6",
   "metadata": {},
   "outputs": [],
   "source": [
    "from sklearn.feature_extraction.text import TfidfVectorizer\n",
    "\n",
    "tf_idf = TfidfVectorizer()\n",
    "\n",
    "corpus_idf = tf_idf.fit_transform(corpus)\n",
    "input_idf = tf_idf.transform(input_tok)"
   ]
  },
  {
   "cell_type": "code",
   "execution_count": null,
   "id": "b4c98183",
   "metadata": {},
   "outputs": [],
   "source": [
    "summarize(input_idf)"
   ]
  },
  {
   "cell_type": "code",
   "execution_count": 151,
   "id": "116898fe-ace3-4a48-a07c-b08a1d616e25",
   "metadata": {
    "scrolled": true
   },
   "outputs": [
    {
     "name": "stdout",
     "output_type": "stream",
     "text": [
      "Cosine Similarity Matrix - TF-IDF:\n",
      "[[1.         0.02140829 0.00732773 0.         0.02329379 0.00580939\n",
      "  0.0056516  0.         0.01032363 0.0258113  0.00431721 0.01734659\n",
      "  0.01088386 0.00355651 0.         0.         0.         0.\n",
      "  0.00623609 0.02829541 0.09723799 0.         0.09285926]\n",
      " [0.02140829 1.         0.22063799 0.00982113 0.02243904 0.09232229\n",
      "  0.00544422 0.05583886 0.00994481 0.02486417 0.05226325 0.06614514\n",
      "  0.00532699 0.0099745  0.         0.         0.         0.\n",
      "  0.00600726 0.02725713 0.         0.         0.        ]\n",
      " [0.00732773 0.22063799 1.         0.00656722 0.01919947 0.01544339\n",
      "  0.00806554 0.0502658  0.03881499 0.0234427  0.04710975 0.02107484\n",
      "  0.01972775 0.00945445 0.01502991 0.08792616 0.         0.\n",
      "  0.00889969 0.00843801 0.00902628 0.00723203 0.00861982]\n",
      " [0.         0.00982113 0.00656722 1.         0.00482327 0.11581812\n",
      "  0.10760728 0.33123139 0.00925219 0.07738151 0.30175559 0.0052944\n",
      "  0.06497176 0.25216828 0.00605737 0.00568159 0.05204595 0.\n",
      "  0.14636337 0.09226773 0.071024   0.11713674 0.06782571]\n",
      " [0.02329379 0.02243904 0.01919947 0.00482327 1.         0.08650013\n",
      "  0.06135883 0.00388896 0.02015601 0.14393078 0.008429   0.01547834\n",
      "  0.01448897 0.00694379 0.0061118  0.06791562 0.         0.\n",
      "  0.00653634 0.02965776 0.         0.         0.        ]\n",
      " [0.00580939 0.09232229 0.01544339 0.11581812 0.08650013 1.\n",
      "  0.12359443 0.00419793 0.02175735 0.07861228 0.00909866 0.08416102\n",
      "  0.01165443 0.00749545 0.00659737 0.00618809 0.         0.07314182\n",
      "  0.00705564 0.         0.         0.         0.        ]\n",
      " [0.0056516  0.00544422 0.00806554 0.10760728 0.06135883 0.12359443\n",
      "  1.         0.         0.0113631  0.03678632 0.00475191 0.03835819\n",
      "  0.0060867  0.00391461 0.         0.06530006 0.         0.\n",
      "  0.00686399 0.         0.         0.         0.        ]\n",
      " [0.         0.05583886 0.0502658  0.33123139 0.00388896 0.00419793\n",
      "  0.         1.         0.19966503 0.         0.33353681 0.00426883\n",
      "  0.00399597 0.15871923 0.04202417 0.00458102 0.04196424 0.\n",
      "  0.07800567 0.         0.05726608 0.04588266 0.05468733]\n",
      " [0.01032363 0.00994481 0.03881499 0.00925219 0.02015601 0.02175735\n",
      "  0.0113631  0.19966503 1.         0.01947968 0.07454346 0.02212482\n",
      "  0.02071061 0.01331986 0.19226629 0.0109966  0.         0.\n",
      "  0.01253828 0.         0.         0.         0.        ]\n",
      " [0.0258113  0.02486417 0.0234427  0.07738151 0.14393078 0.07861228\n",
      "  0.03678632 0.         0.01947968 1.         0.00814616 0.03845204\n",
      "  0.01043439 0.00671079 0.01773892 0.01663846 0.         0.\n",
      "  0.0117669  0.0490083  0.12132648 0.13524766 0.02279373]\n",
      " [0.00431721 0.05226325 0.04710975 0.30175559 0.008429   0.00909866\n",
      "  0.00475191 0.33353681 0.07454346 0.00814616 1.         0.10029271\n",
      "  0.0192453  0.20419376 0.10557614 0.00459864 0.04212563 0.\n",
      "  0.14971957 0.         0.05748632 0.15750682 0.05489765]\n",
      " [0.01734659 0.06614514 0.02107484 0.0052944  0.01547834 0.08416102\n",
      "  0.03835819 0.00426883 0.02212482 0.03845204 0.10029271 1.\n",
      "  0.18539887 0.00762205 0.00670879 0.0062926  0.         0.\n",
      "  0.0071748  0.         0.02026074 0.         0.01934837]\n",
      " [0.01088386 0.00532699 0.01972775 0.06497176 0.01448897 0.01165443\n",
      "  0.0060867  0.00399597 0.02071061 0.01043439 0.0192453  0.18539887\n",
      "  1.         0.05355303 0.00627997 0.08863154 0.         0.\n",
      "  0.00671619 0.09565841 0.00948284 0.0178642  0.00905582]\n",
      " [0.00355651 0.0099745  0.00945445 0.25216828 0.00694379 0.00749545\n",
      "  0.00391461 0.15871923 0.01331986 0.00671079 0.20419376 0.00762205\n",
      "  0.05355303 1.         0.00403891 0.24398233 0.034703   0.\n",
      "  0.03869032 0.         0.0473571  0.07810398 0.04522456]\n",
      " [0.         0.         0.01502991 0.00605737 0.0061118  0.00659737\n",
      "  0.         0.04202417 0.19226629 0.01773892 0.10557614 0.00670879\n",
      "  0.00627997 0.00403891 1.         0.01880666 0.         0.\n",
      "  0.         0.01556585 0.01665105 0.01334114 0.01590124]\n",
      " [0.         0.         0.08792616 0.00568159 0.06791562 0.00618809\n",
      "  0.06530006 0.00458102 0.0109966  0.01663846 0.00459864 0.0062926\n",
      "  0.08863154 0.24398233 0.01880666 1.         0.         0.\n",
      "  0.         0.01460019 0.01561808 0.0125135  0.01491478]\n",
      " [0.         0.         0.         0.05204595 0.         0.\n",
      "  0.         0.04196424 0.         0.         0.04212563 0.\n",
      "  0.         0.034703   0.         0.         1.         0.\n",
      "  0.         0.         0.08873884 0.07109922 0.08474283]\n",
      " [0.         0.         0.         0.         0.         0.07314182\n",
      "  0.         0.         0.         0.         0.         0.\n",
      "  0.         0.         0.         0.         0.         1.\n",
      "  0.         0.         0.         0.         0.        ]\n",
      " [0.00623609 0.00600726 0.00889969 0.14636337 0.00653634 0.00705564\n",
      "  0.00686399 0.07800567 0.01253828 0.0117669  0.14971957 0.0071748\n",
      "  0.00671619 0.03869032 0.         0.         0.         0.\n",
      "  1.         0.         0.         0.07041874 0.        ]\n",
      " [0.02829541 0.02725713 0.00843801 0.09226773 0.02965776 0.\n",
      "  0.         0.         0.         0.0490083  0.         0.\n",
      "  0.09565841 0.         0.01556585 0.01460019 0.         0.\n",
      "  0.         1.         0.02094458 0.01678119 0.02000143]\n",
      " [0.09723799 0.         0.00902628 0.071024   0.         0.\n",
      "  0.         0.05726608 0.         0.12132648 0.05748632 0.02026074\n",
      "  0.00948284 0.0473571  0.01665105 0.01561808 0.08873884 0.\n",
      "  0.         0.02094458 1.         0.11497598 0.30151031]\n",
      " [0.         0.         0.00723203 0.11713674 0.         0.\n",
      "  0.         0.04588266 0.         0.13524766 0.15750682 0.\n",
      "  0.0178642  0.07810398 0.01334114 0.0125135  0.07109922 0.\n",
      "  0.07041874 0.01678119 0.11497598 1.         0.10979849]\n",
      " [0.09285926 0.         0.00861982 0.06782571 0.         0.\n",
      "  0.         0.05468733 0.         0.02279373 0.05489765 0.01934837\n",
      "  0.00905582 0.04522456 0.01590124 0.01491478 0.08474283 0.\n",
      "  0.         0.02000143 0.30151031 0.10979849 1.        ]]\n"
     ]
    }
   ],
   "source": [
    "similarity_matrix_idf = summarize(input_idf)\n",
    "print(\"Cosine Similarity Matrix - TF-IDF:\")\n",
    "print(similarity_matrix_idf)"
   ]
  },
  {
   "cell_type": "markdown",
   "id": "103a2c7d",
   "metadata": {},
   "source": [
    "#### Continuous Bag of Words"
   ]
  },
  {
   "cell_type": "code",
   "execution_count": 134,
   "id": "4cd0af75",
   "metadata": {},
   "outputs": [],
   "source": [
    "from gensim.models import Word2Vec\n",
    "from nltk.tokenize import word_tokenize\n",
    "\n",
    "g_model = Word2Vec(sentences=[word_tokenize(sent) for sent in corpus], vector_size=200, window=5, workers=5, epochs=500)"
   ]
  },
  {
   "cell_type": "code",
   "execution_count": 135,
   "id": "6c2aa070",
   "metadata": {},
   "outputs": [],
   "source": [
    "def get_embeddings(sent_l):\n",
    "    vec = np.array([g_model.wv[word] if word in g_model.wv else np.zeros((200)) for word in sent_l])\n",
    "    vec = vec.sum(axis=0)\n",
    "    return vec\n",
    "\n",
    "input_cbow = np.array([get_embeddings(sent) for sent in [word_tokenize(sent) for sent in input_tok]])"
   ]
  },
  {
   "cell_type": "code",
   "execution_count": 136,
   "id": "b97cf14d",
   "metadata": {
    "scrolled": true
   },
   "outputs": [
    {
     "name": "stdout",
     "output_type": "stream",
     "text": [
      "Rouge Score :  {'rouge1': Score(precision=0.22818791946308725, recall=0.20359281437125748, fmeasure=0.2151898734177215)}\n",
      "\n",
      "§ Projects EmoSense | BERT, BeautifulSoup, Scikit-learn, Tensorflow, Python Link to Demo ® • Developed a BERT-based sentiment analysis chatbot system for diverse textual inputs. Poetify | RNNs, GRU, Tensorflow, Python Link to Demo ® • Developed a poetry generation application utilizing Recurrent Neural Networks (RNNs) implemented with Keras and TensorFlow. PlateVisionizer | CNNs, Tesseract OCR, Tensorflow, Python Link to Demo ® • Developed an Automated License Plate Recognition system for license plate extraction and character recognition. Text2Img | GANs, Pytorch, Python Link to Demo ® • Developed a PyTorch-based application for generating images from textual prompts utilizing Generative Adversarial Networks (GANs). • Applied in diverse creative tasks and advanced data augmentation techniques in computer vision, enhancing model performance and promoting artistic exploration. University of Michigan: Applied Machine Learning in Python. LinkedIn: Computer Vision Deep Dive in Python, Natural Language Processing with TensorFlow. \u0014 Certifications Microsoft: Career Essentials in Data Analysis. Technologies: Scikit-learn, TensorFlow, PyTorch, Keras, OpenCV, SpaCy, Tessaract and NLTK. • Trained the RNN model on a dataset of poems to capture intricate patterns and structures of poetry.\n"
     ]
    }
   ],
   "source": [
    "summarize(input_cbow)"
   ]
  },
  {
   "cell_type": "code",
   "execution_count": 184,
   "id": "38247675-4a78-4600-8742-5fc909545b45",
   "metadata": {
    "scrolled": true
   },
   "outputs": [
    {
     "name": "stdout",
     "output_type": "stream",
     "text": [
      "Cosine Similarity Matrix - CBOW:\n",
      "[[ 1.          0.15565664  0.08100839  0.05865292  0.08710148  0.03701585\n",
      "  -0.05190951  0.06589054 -0.10415016  0.23521386  0.00616118 -0.00211996\n",
      "  -0.02286441  0.04096264 -0.02529175  0.02009513  0.06758164  0.05574347\n",
      "   0.01297578  0.28621116  0.34575958  0.17755406  0.23209398]\n",
      " [ 0.15565664  1.          0.44057592  0.17048051  0.12470869  0.23945396\n",
      "   0.1230022   0.13020147  0.11116875  0.23193111  0.07823255  0.13417519\n",
      "   0.04202913  0.07123264  0.08054879  0.0121653  -0.00901814  0.16228839\n",
      "   0.12014976  0.2004436   0.15387239  0.0090165   0.01253701]\n",
      " [ 0.08100839  0.44057592  1.          0.05541327  0.07398488  0.12917327\n",
      "   0.17329663  0.13842553  0.20760785  0.08504656  0.09547156  0.25701417\n",
      "   0.09174199  0.10952233  0.07379617  0.15391577 -0.03877023  0.07974737\n",
      "   0.09755216  0.15318517 -0.01560299 -0.05159263 -0.01798513]\n",
      " [ 0.05865292  0.17048051  0.05541327  1.          0.14890251  0.20602826\n",
      "   0.17063515  0.46506948  0.13735624  0.25035501  0.55637464  0.11581844\n",
      "   0.14116849  0.60563868  0.23904672  0.1847888   0.35187944  0.34942148\n",
      "   0.46853654  0.33050508  0.3405758   0.41038228  0.1929416 ]\n",
      " [ 0.08710148  0.12470869  0.07398488  0.14890251  1.          0.26931754\n",
      "   0.32377162  0.14354579  0.2330771   0.49680425  0.13178696  0.22043398\n",
      "   0.22074175  0.10470147  0.19199309  0.16897152 -0.00789698  0.05213532\n",
      "   0.13818713  0.15552167  0.08156512  0.0924543   0.04987138]\n",
      " [ 0.03701585  0.23945396  0.12917327  0.20602826  0.26931754  1.\n",
      "   0.03855082  0.06187683  0.10166967  0.2677693   0.05537323  0.20472948\n",
      "   0.16973556  0.15760902  0.05168001 -0.03555484  0.11415655  0.13089048\n",
      "   0.15540073  0.12376395  0.11675895  0.08732171  0.02285313]\n",
      " [-0.05190951  0.1230022   0.17329663  0.17063515  0.32377162  0.03855082\n",
      "   1.          0.18261027  0.11353258  0.26212959  0.20380851  0.30647685\n",
      "   0.10592534  0.12241443  0.22810212  0.29622232 -0.08680585  0.04635039\n",
      "   0.05886646  0.05808429  0.03528445  0.0334892   0.03151179]\n",
      " [ 0.06589054  0.13020147  0.13842553  0.46506948  0.14354579  0.06187683\n",
      "   0.18261027  1.          0.28380253  0.27513366  0.5571715   0.23357896\n",
      "   0.18359346  0.49544156  0.2858058   0.18962508  0.25251872  0.16186749\n",
      "   0.30792467  0.11309603  0.29492426  0.27337579  0.21685403]\n",
      " [-0.10415016  0.11116875  0.20760785  0.13735624  0.2330771   0.10166967\n",
      "   0.11353258  0.28380253  1.          0.22621771  0.16901278  0.288891\n",
      "   0.35053462  0.13638186  0.37258863  0.14627633 -0.11139766  0.03649888\n",
      "  -0.02186215 -0.00182926 -0.06615078 -0.07675966 -0.10310628]\n",
      " [ 0.23521386  0.23193111  0.08504656  0.25035501  0.49680425  0.2677693\n",
      "   0.26212959  0.27513366  0.22621771  1.          0.21029832  0.24029936\n",
      "   0.20505704  0.26866219  0.20414747  0.13907013  0.06457002  0.12944744\n",
      "   0.18122047  0.20536119  0.3634168   0.29896026  0.10191713]\n",
      " [ 0.00616118  0.07823255  0.09547156  0.55637464  0.13178696  0.05537323\n",
      "   0.20380851  0.5571715   0.16901278  0.21029832  1.          0.35560624\n",
      "   0.05242087  0.54280594  0.35360531  0.17005352  0.30164184  0.26376943\n",
      "   0.52624001  0.17702133  0.25147918  0.41752162  0.16928456]\n",
      " [-0.00211996  0.13417519  0.25701417  0.11581844  0.22043398  0.20472948\n",
      "   0.30647685  0.23357896  0.288891    0.24029936  0.35560624  1.\n",
      "   0.2874945   0.20732759  0.36358091  0.13062451 -0.03847723 -0.00650528\n",
      "  -0.01485866  0.06716859  0.10606499  0.00621163  0.04901705]\n",
      " [-0.02286441  0.04202913  0.09174199  0.14116849  0.22074175  0.16973556\n",
      "   0.10592534  0.18359346  0.35053462  0.20505704  0.05242087  0.2874945\n",
      "   1.          0.23861119  0.16323386  0.14883494 -0.00174932 -0.12728463\n",
      "  -0.09141386  0.23102895  0.1324876  -0.01961238  0.0188239 ]\n",
      " [ 0.04096264  0.07123264  0.10952233  0.60563868  0.10470147  0.15760902\n",
      "   0.12241443  0.49544156  0.13638186  0.26866219  0.54280594  0.20732759\n",
      "   0.23861119  1.          0.22583286  0.38835356  0.2479924   0.18429471\n",
      "   0.28288444  0.19014829  0.35443813  0.42998867  0.16043869]\n",
      " [-0.02529175  0.08054879  0.07379617  0.23904672  0.19199309  0.05168001\n",
      "   0.22810212  0.2858058   0.37258863  0.20414747  0.35360531  0.36358091\n",
      "   0.16323386  0.22583286  1.          0.27773349 -0.09438182  0.07839253\n",
      "   0.12727324  0.1048956   0.06031395  0.06867041  0.05839577]\n",
      " [ 0.02009513  0.0121653   0.15391577  0.1847888   0.16897152 -0.03555484\n",
      "   0.29622232  0.18962508  0.14627633  0.13907013  0.17005352  0.13062451\n",
      "   0.14883494  0.38835356  0.27773349  1.         -0.06309503 -0.02969703\n",
      "   0.02707456  0.06282166  0.10444432  0.09996246  0.11573718]\n",
      " [ 0.06758164 -0.00901814 -0.03877023  0.35187944 -0.00789698  0.11415655\n",
      "  -0.08680585  0.25251872 -0.11139766  0.06457002  0.30164184 -0.03847723\n",
      "  -0.00174932  0.2479924  -0.09438182 -0.06309503  1.          0.30554559\n",
      "   0.33869194  0.11772521  0.29930701  0.33297611  0.22749806]\n",
      " [ 0.05574347  0.16228839  0.07974737  0.34942148  0.05213532  0.13089048\n",
      "   0.04635039  0.16186749  0.03649888  0.12944744  0.26376943 -0.00650528\n",
      "  -0.12728463  0.18429471  0.07839253 -0.02969703  0.30554559  1.\n",
      "   0.34001405  0.23760249  0.1644525   0.27765266  0.17238532]\n",
      " [ 0.01297578  0.12014976  0.09755216  0.46853654  0.13818713  0.15540073\n",
      "   0.05886646  0.30792467 -0.02186215  0.18122047  0.52624001 -0.01485866\n",
      "  -0.09141386  0.28288444  0.12727324  0.02707456  0.33869194  0.34001405\n",
      "   1.          0.18557868  0.23676525  0.29535148  0.13722271]\n",
      " [ 0.28621116  0.2004436   0.15318517  0.33050508  0.15552167  0.12376395\n",
      "   0.05808429  0.11309603 -0.00182926  0.20536119  0.17702133  0.06716859\n",
      "   0.23102895  0.19014829  0.1048956   0.06282166  0.11772521  0.23760249\n",
      "   0.18557868  1.          0.36514041  0.26087405  0.1868704 ]\n",
      " [ 0.34575958  0.15387239 -0.01560299  0.3405758   0.08156512  0.11675895\n",
      "   0.03528445  0.29492426 -0.06615078  0.3634168   0.25147918  0.10606499\n",
      "   0.1324876   0.35443813  0.06031395  0.10444432  0.29930701  0.1644525\n",
      "   0.23676525  0.36514041  1.          0.37248249  0.55075001]\n",
      " [ 0.17755406  0.0090165  -0.05159263  0.41038228  0.0924543   0.08732171\n",
      "   0.0334892   0.27337579 -0.07675966  0.29896026  0.41752162  0.00621163\n",
      "  -0.01961238  0.42998867  0.06867041  0.09996246  0.33297611  0.27765266\n",
      "   0.29535148  0.26087405  0.37248249  1.          0.28239729]\n",
      " [ 0.23209398  0.01253701 -0.01798513  0.1929416   0.04987138  0.02285313\n",
      "   0.03151179  0.21685403 -0.10310628  0.10191713  0.16928456  0.04901705\n",
      "   0.0188239   0.16043869  0.05839577  0.11573718  0.22749806  0.17238532\n",
      "   0.13722271  0.1868704   0.55075001  0.28239729  1.        ]]\n"
     ]
    }
   ],
   "source": [
    "similarity_matrix_w2v = summarize(input_cbow)\n",
    "print(\"Cosine Similarity Matrix - CBOW:\")\n",
    "print(similarity_matrix_w2v)"
   ]
  },
  {
   "cell_type": "markdown",
   "id": "59233ca0",
   "metadata": {},
   "source": [
    "#### Skip gram"
   ]
  },
  {
   "cell_type": "code",
   "execution_count": 137,
   "id": "ba88d635",
   "metadata": {},
   "outputs": [
    {
     "name": "stderr",
     "output_type": "stream",
     "text": [
      "\n",
      "KeyboardInterrupt\n",
      "\n"
     ]
    }
   ],
   "source": [
    "from gensim.models import Word2Vec\n",
    "from nltk.tokenize import word_tokenize\n",
    "\n",
    "g_model = Word2Vec(sentences=[word_tokenize(sent) for sent in corpus], vector_size=200, window=5, workers=5, epochs=500, sg=1)"
   ]
  },
  {
   "cell_type": "code",
   "execution_count": null,
   "id": "669339af",
   "metadata": {},
   "outputs": [],
   "source": [
    "def get_embeddings(sent_l):\n",
    "    vec = np.array([g_model.wv[word] if word in g_model.wv else np.zeros((200)) for word in sent_l])\n",
    "    vec = vec.sum(axis=0)\n",
    "    return vec\n",
    "\n",
    "input_sg = np.array([get_embeddings(sent) for sent in [word_tokenize(sent) for sent in input_tok]])"
   ]
  },
  {
   "cell_type": "code",
   "execution_count": null,
   "id": "ac064044",
   "metadata": {},
   "outputs": [],
   "source": [
    "summarize(input_sg)"
   ]
  },
  {
   "cell_type": "markdown",
   "id": "b95b348b",
   "metadata": {},
   "source": [
    "#### Word2Vec - PreTrained Embeddings"
   ]
  },
  {
   "cell_type": "code",
   "execution_count": null,
   "id": "9297e265",
   "metadata": {},
   "outputs": [],
   "source": [
    "import gensim.downloader as api\n",
    "\n",
    "model = api.load(\"glove-wiki-gigaword-200\")\n",
    "\n",
    "def get_embeddings(sent_l):\n",
    "    vec = np.array([model[word] if word in model else np.zeros((200)) for word in sent_l])\n",
    "    vec = vec.sum(axis=0)\n",
    "    return vec\n",
    "\n",
    "input_wv = np.array([get_embeddings(sent) for sent in [word_tokenize(sent) for sent in input_tok]])"
   ]
  },
  {
   "cell_type": "code",
   "execution_count": null,
   "id": "1f5b764b",
   "metadata": {},
   "outputs": [],
   "source": [
    "summarize(input_wv)"
   ]
  },
  {
   "cell_type": "markdown",
   "id": "af42bdbc",
   "metadata": {},
   "source": [
    "#### FastText"
   ]
  },
  {
   "cell_type": "code",
   "execution_count": 124,
   "id": "78d90960",
   "metadata": {},
   "outputs": [],
   "source": [
    "from gensim.models import FastText\n",
    "from nltk.tokenize import word_tokenize\n",
    "\n",
    "f_model = FastText(sentences=[word_tokenize(sent) for sent in corpus], vector_size=200, window=5, workers=5, epochs=500)"
   ]
  },
  {
   "cell_type": "code",
   "execution_count": 125,
   "id": "8728313f",
   "metadata": {},
   "outputs": [],
   "source": [
    "def get_embeddings(sent_l):\n",
    "    vec = np.array([f_model.wv[word] if word in f_model.wv else np.zeros((200)) for word in sent_l])\n",
    "    vec = vec.sum(axis=0)\n",
    "    return vec\n",
    "\n",
    "input_ft = np.array([get_embeddings(sent) for sent in [word_tokenize(sent) for sent in input_tok]])"
   ]
  },
  {
   "cell_type": "code",
   "execution_count": 126,
   "id": "ac5ccd60",
   "metadata": {
    "scrolled": true
   },
   "outputs": [
    {
     "name": "stdout",
     "output_type": "stream",
     "text": [
      "Rouge Score :  {'rouge1': Score(precision=0.4429530201342282, recall=0.29596412556053814, fmeasure=0.35483870967741943)}\n",
      "\n",
      "*Thorough knowledge ofSCADAsystems operations, security, safeguardsand protection *SECURITYCLEARANCE:TOP SECRET (SCI) w/CI Polygraph ProfessionalExperience 07/2014 to Current BranchChiefInformationTechnology Specialist CompanyNameï¼ City Effectively oversee, manage,and evaluate multipleenterpriselevelIT programs, serveas senior technicaladvisorand evaluator for programs using cutting edgetechnology for the Headquarters Air Force(HAF)command,control,communications,computer, intelligence, surveillanceand reconnaissance(C4ISR). Developed information operationsand computer network operations plans, including defensivecomputer operations planning, to ensure support Geographic Combatant Commanders' intent. 08/2009 to 07/2014 InformationTechnology Specialist (INFOSEC/NETOPS) CompanyNameï¼ City , State Developed detailed operations plansand operations orders supporting cyber requirementsat thestrategic, operational,and tacticallevels of cyber warfare. *Superior knowledge ofINFOSEC/NETOPS techniques to determinerequirements for information technology equipmentand systems. Collaborated withDefenseInformation Systems Agency and other US Government partners to develop and implement directives for Global InformationGrid (GIG) operations. Ensured documentation ofrequirements for systemsadministration and information tasking orders. Advised components ofthe ANGon acquisition, procurement, maintenanceand feasibility foradoption ofinformation technology hardware and software. *Expertisein capability planning in IT environment,enterprisetechnical/Certification and Accreditation standards, CCRI processes, procedures, security practices,and IAvulnerability tools i.e. Performs morecomplex aspects ofthe projectmanagement,evaluation,and oversight responsibilities such as feasibility studies, systems analysis, systems development, implementation, systems integration,and problemresolution. *Thorough knowledge ofOffice of Managementand Budget (OMB), Department ofDefense(DoD)and U.S. Air Forceregulations, principlesand practices pertaining to logistics, INFOSEC/NETOPS, installations,and mission support functions.\n"
     ]
    }
   ],
   "source": [
    "summarize(input_ft)"
   ]
  },
  {
   "cell_type": "code",
   "execution_count": 153,
   "id": "7a47a71c-117d-4d73-9265-4cff3ac893d2",
   "metadata": {
    "scrolled": true
   },
   "outputs": [
    {
     "name": "stdout",
     "output_type": "stream",
     "text": [
      "Cosine Similarity Matrix - FastText:\n",
      "[[1.         0.2981681  0.44218078 ... 0.31538147 0.58161676 0.50535953]\n",
      " [0.2981681  0.99999976 0.37946737 ... 0.5391238  0.3251799  0.1696044 ]\n",
      " [0.44218078 0.37946737 1.0000001  ... 0.2909866  0.33070162 0.16499981]\n",
      " ...\n",
      " [0.31538147 0.5391238  0.2909866  ... 0.9999997  0.47525415 0.2794646 ]\n",
      " [0.58161676 0.3251799  0.33070162 ... 0.47525415 1.0000001  0.61722654]\n",
      " [0.50535953 0.1696044  0.16499981 ... 0.2794646  0.61722654 0.9999998 ]]\n"
     ]
    }
   ],
   "source": [
    "similarity_matrix_ft = summarize(input_ft)\n",
    "print(\"Cosine Similarity Matrix - FastText:\")\n",
    "print(similarity_matrix_ft)\n"
   ]
  },
  {
   "cell_type": "markdown",
   "id": "5e796f29-e9b7-44be-84d2-a71bd016069c",
   "metadata": {},
   "source": [
    "## Summarization using BERT"
   ]
  },
  {
   "cell_type": "code",
   "execution_count": 155,
   "id": "1c2f1172-c2a1-4aa2-93ad-27e9784d62da",
   "metadata": {},
   "outputs": [
    {
     "name": "stdout",
     "output_type": "stream",
     "text": [
      "Requirement already satisfied: transformers in c:\\users\\agilan m a\\appdata\\local\\programs\\python\\python312\\lib\\site-packages (4.39.2)\n",
      "Requirement already satisfied: filelock in c:\\users\\agilan m a\\appdata\\local\\programs\\python\\python312\\lib\\site-packages (from transformers) (3.13.1)\n",
      "Requirement already satisfied: huggingface-hub<1.0,>=0.19.3 in c:\\users\\agilan m a\\appdata\\local\\programs\\python\\python312\\lib\\site-packages (from transformers) (0.22.2)\n",
      "Requirement already satisfied: numpy>=1.17 in c:\\users\\agilan m a\\appdata\\local\\programs\\python\\python312\\lib\\site-packages (from transformers) (1.26.3)\n",
      "Requirement already satisfied: packaging>=20.0 in c:\\users\\agilan m a\\appdata\\local\\programs\\python\\python312\\lib\\site-packages (from transformers) (23.2)\n",
      "Requirement already satisfied: pyyaml>=5.1 in c:\\users\\agilan m a\\appdata\\local\\programs\\python\\python312\\lib\\site-packages (from transformers) (6.0.1)\n",
      "Requirement already satisfied: regex!=2019.12.17 in c:\\users\\agilan m a\\appdata\\local\\programs\\python\\python312\\lib\\site-packages (from transformers) (2023.12.25)\n",
      "Requirement already satisfied: requests in c:\\users\\agilan m a\\appdata\\local\\programs\\python\\python312\\lib\\site-packages (from transformers) (2.31.0)\n",
      "Requirement already satisfied: tokenizers<0.19,>=0.14 in c:\\users\\agilan m a\\appdata\\local\\programs\\python\\python312\\lib\\site-packages (from transformers) (0.15.2)\n",
      "Requirement already satisfied: safetensors>=0.4.1 in c:\\users\\agilan m a\\appdata\\local\\programs\\python\\python312\\lib\\site-packages (from transformers) (0.4.2)\n",
      "Requirement already satisfied: tqdm>=4.27 in c:\\users\\agilan m a\\appdata\\local\\programs\\python\\python312\\lib\\site-packages (from transformers) (4.66.1)\n",
      "Requirement already satisfied: fsspec>=2023.5.0 in c:\\users\\agilan m a\\appdata\\local\\programs\\python\\python312\\lib\\site-packages (from huggingface-hub<1.0,>=0.19.3->transformers) (2023.12.2)\n",
      "Requirement already satisfied: typing-extensions>=3.7.4.3 in c:\\users\\agilan m a\\appdata\\local\\programs\\python\\python312\\lib\\site-packages (from huggingface-hub<1.0,>=0.19.3->transformers) (4.9.0)\n",
      "Requirement already satisfied: colorama in c:\\users\\agilan m a\\appdata\\local\\programs\\python\\python312\\lib\\site-packages (from tqdm>=4.27->transformers) (0.4.6)\n",
      "Requirement already satisfied: charset-normalizer<4,>=2 in c:\\users\\agilan m a\\appdata\\local\\programs\\python\\python312\\lib\\site-packages (from requests->transformers) (3.3.2)\n",
      "Requirement already satisfied: idna<4,>=2.5 in c:\\users\\agilan m a\\appdata\\local\\programs\\python\\python312\\lib\\site-packages (from requests->transformers) (3.6)\n",
      "Requirement already satisfied: urllib3<3,>=1.21.1 in c:\\users\\agilan m a\\appdata\\local\\programs\\python\\python312\\lib\\site-packages (from requests->transformers) (2.1.0)\n",
      "Requirement already satisfied: certifi>=2017.4.17 in c:\\users\\agilan m a\\appdata\\local\\programs\\python\\python312\\lib\\site-packages (from requests->transformers) (2023.11.17)\n",
      "Note: you may need to restart the kernel to use updated packages.\n"
     ]
    }
   ],
   "source": [
    "pip install transformers"
   ]
  },
  {
   "cell_type": "code",
   "execution_count": 156,
   "id": "779cf155-cea2-422f-9258-99bf62b65a6f",
   "metadata": {},
   "outputs": [],
   "source": [
    "from transformers import BertTokenizer, BertModel"
   ]
  },
  {
   "cell_type": "code",
   "execution_count": 157,
   "id": "135deb4a-2d7b-4f6d-8cf4-f1aba6ad8e6b",
   "metadata": {},
   "outputs": [],
   "source": [
    "tokenizer = BertTokenizer.from_pretrained('bert-base-uncased')\n",
    "model = BertModel.from_pretrained('bert-base-uncased')\n"
   ]
  },
  {
   "cell_type": "code",
   "execution_count": 158,
   "id": "ca71e4e0-ffbd-44ea-815b-94a2f8e80104",
   "metadata": {},
   "outputs": [],
   "source": [
    "input_text_tokens = tokenizer.encode_plus(input_text, return_tensors=\"pt\", max_length=512, truncation=True, padding=True)\n"
   ]
  },
  {
   "cell_type": "code",
   "execution_count": 160,
   "id": "005515a0-ad41-43e1-a6a5-7b709a3e7fee",
   "metadata": {},
   "outputs": [],
   "source": [
    "import torch"
   ]
  },
  {
   "cell_type": "code",
   "execution_count": 161,
   "id": "b32b5425-fdee-48f1-bfaa-d4d536053829",
   "metadata": {},
   "outputs": [],
   "source": [
    "with torch.no_grad():\n",
    "    outputs = model(**input_text_tokens)"
   ]
  },
  {
   "cell_type": "code",
   "execution_count": 167,
   "id": "9550bb7a-7413-4e1a-bd5e-aa599842095f",
   "metadata": {},
   "outputs": [],
   "source": [
    "import numpy as np\n",
    "\n",
    "# Assuming your 1D array is named sentence_embeddings\n",
    "sentence_embeddings_2d = sentence_embeddings.reshape(1, -1)\n",
    "\n",
    "# Now, you can pass sentence_embeddings_2d to the cosine_similarity function\n",
    "similarity_matrix = cosine_similarity(sentence_embeddings_2d, sentence_embeddings_2d)\n"
   ]
  },
  {
   "cell_type": "code",
   "execution_count": 166,
   "id": "03994e01-2d5a-43af-8ee5-38d6e9d7470b",
   "metadata": {},
   "outputs": [],
   "source": [
    "last_hidden_states = outputs.last_hidden_state\n",
    "sentence_embeddings = torch.mean(last_hidden_states, dim=1).squeeze().numpy()"
   ]
  },
  {
   "cell_type": "code",
   "execution_count": 168,
   "id": "ebf2a5b2-99e7-4f00-aa4e-daa351821fc9",
   "metadata": {},
   "outputs": [],
   "source": [
    "import networkx as nx\n",
    "G = nx.from_numpy_array(similarity_matrix)"
   ]
  },
  {
   "cell_type": "code",
   "execution_count": 169,
   "id": "506be411-add6-455d-845e-c80693982031",
   "metadata": {},
   "outputs": [],
   "source": [
    "pagerank_scores = nx.pagerank(G)\n"
   ]
  },
  {
   "cell_type": "code",
   "execution_count": 170,
   "id": "f0f0bcef-28a3-4d91-8a70-68861e025758",
   "metadata": {},
   "outputs": [],
   "source": [
    "sorted_sentences = sorted(pagerank_scores, key=pagerank_scores.get, reverse=True)"
   ]
  },
  {
   "cell_type": "code",
   "execution_count": 181,
   "id": "60122f95-41d9-4738-9970-489f4c1aa814",
   "metadata": {},
   "outputs": [],
   "source": [
    "top_k = 100\n",
    "summary_sentences = [sentences[i] for i in sorted_sentences[:top_k]]"
   ]
  },
  {
   "cell_type": "markdown",
   "id": "68f459c5-0ea6-42e8-9d2b-bfca2ba8427c",
   "metadata": {},
   "source": [
    "#### Summary"
   ]
  },
  {
   "cell_type": "code",
   "execution_count": 182,
   "id": "78e87c05-546a-498f-9d35-92be5a32d95c",
   "metadata": {
    "scrolled": true
   },
   "outputs": [
    {
     "name": "stdout",
     "output_type": "stream",
     "text": [
      "Summary using BERT embeddings:\n",
      " \u0013 Education Shiv Nadar University Chennai Chennai B.Tech Artificial Intelligence and Data Science 2021 - 2025 • Activities: President of SNUC Art Club, Active member at SNU Coding club, Volunteer at NSO.\n"
     ]
    }
   ],
   "source": [
    "summary = \" \".join(summary_sentences)\n",
    "print(\"Summary using BERT embeddings:\")\n",
    "print(summary)"
   ]
  },
  {
   "cell_type": "code",
   "execution_count": 177,
   "id": "b78fa3bb-e474-4ffb-8812-68b36900510b",
   "metadata": {},
   "outputs": [
    {
     "name": "stdout",
     "output_type": "stream",
     "text": [
      "Collecting rougeNote: you may need to restart the kernel to use updated packages.\n",
      "\n",
      "  Downloading rouge-1.0.1-py3-none-any.whl.metadata (4.1 kB)\n",
      "Requirement already satisfied: six in c:\\users\\agilan m a\\appdata\\local\\programs\\python\\python312\\lib\\site-packages (from rouge) (1.16.0)\n",
      "Downloading rouge-1.0.1-py3-none-any.whl (13 kB)\n",
      "Installing collected packages: rouge\n",
      "Successfully installed rouge-1.0.1\n"
     ]
    }
   ],
   "source": [
    "pip install rouge"
   ]
  },
  {
   "cell_type": "code",
   "execution_count": 179,
   "id": "e63eba51-7035-4dc8-9bc8-8e128cc62ca1",
   "metadata": {},
   "outputs": [],
   "source": [
    "from rouge import Rouge"
   ]
  },
  {
   "cell_type": "code",
   "execution_count": 180,
   "id": "0288bae9-68bb-4308-93ef-b55a12731eaa",
   "metadata": {},
   "outputs": [
    {
     "name": "stdout",
     "output_type": "stream",
     "text": [
      "[{'rouge-1': {'r': 0.0423728813559322, 'p': 0.16129032258064516, 'f': 0.06711409066438465}, 'rouge-2': {'r': 0.0, 'p': 0.0, 'f': 0.0}, 'rouge-l': {'r': 0.0423728813559322, 'p': 0.16129032258064516, 'f': 0.06711409066438465}}]\n"
     ]
    }
   ],
   "source": [
    "rouge = Rouge()\n",
    "\n",
    "# Calculate ROUGE scores\n",
    "scores = rouge.get_scores(summary, expected)\n",
    "\n",
    "# Print ROUGE scores\n",
    "print(scores)"
   ]
  },
  {
   "cell_type": "code",
   "execution_count": null,
   "id": "0810f8a6-c61d-4925-9a13-397a0c325940",
   "metadata": {},
   "outputs": [],
   "source": []
  }
 ],
 "metadata": {
  "kernelspec": {
   "display_name": "Python 3 (ipykernel)",
   "language": "python",
   "name": "python3"
  },
  "language_info": {
   "codemirror_mode": {
    "name": "ipython",
    "version": 3
   },
   "file_extension": ".py",
   "mimetype": "text/x-python",
   "name": "python",
   "nbconvert_exporter": "python",
   "pygments_lexer": "ipython3",
   "version": "3.12.1"
  }
 },
 "nbformat": 4,
 "nbformat_minor": 5
}
