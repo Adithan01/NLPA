{
 "cells": [
  {
   "cell_type": "code",
   "execution_count": 4,
   "id": "3ee5582b",
   "metadata": {},
   "outputs": [],
   "source": [
    "import nltk\n",
    "from nltk.corpus import words\n",
    "from nltk.metrics import edit_distance"
   ]
  },
  {
   "cell_type": "code",
   "execution_count": 5,
   "id": "4bdeb284",
   "metadata": {},
   "outputs": [
    {
     "name": "stderr",
     "output_type": "stream",
     "text": [
      "[nltk_data] Downloading package words to\n",
      "[nltk_data]     C:\\Users\\adith\\AppData\\Roaming\\nltk_data...\n",
      "[nltk_data]   Unzipping corpora\\words.zip.\n"
     ]
    },
    {
     "data": {
      "text/plain": [
       "True"
      ]
     },
     "execution_count": 5,
     "metadata": {},
     "output_type": "execute_result"
    }
   ],
   "source": [
    "nltk.download('words')"
   ]
  },
  {
   "cell_type": "code",
   "execution_count": 13,
   "id": "497fc4ba",
   "metadata": {},
   "outputs": [],
   "source": [
    "from nltk.metrics.distance import jaccard_distance \n",
    "from nltk.util import ngrams"
   ]
  },
  {
   "cell_type": "code",
   "execution_count": 14,
   "id": "36232839",
   "metadata": {},
   "outputs": [],
   "source": [
    "correct_words = words.words()"
   ]
  },
  {
   "cell_type": "code",
   "execution_count": 16,
   "id": "8642e237",
   "metadata": {},
   "outputs": [
    {
     "name": "stdout",
     "output_type": "stream",
     "text": [
      "happy\n",
      "amazing\n",
      "intelligent\n"
     ]
    }
   ],
   "source": [
    "incorrect_words=['happpy', 'azmaing', 'intelliengt'] \n",
    "  \n",
    "# loop for finding correct spellings \n",
    "# based on jaccard distance \n",
    "# and printing the correct word \n",
    "for word in incorrect_words: \n",
    "    temp = [(jaccard_distance(set(ngrams(word, 2)), \n",
    "                              set(ngrams(w, 2))),w) \n",
    "            for w in correct_words if w[0]==word[0]] \n",
    "    print(sorted(temp, key = lambda val:val[0])[0][1])"
   ]
  },
  {
   "cell_type": "code",
   "execution_count": 17,
   "id": "3f2c3fef",
   "metadata": {},
   "outputs": [],
   "source": [
    "from nltk.metrics.distance  import edit_distance "
   ]
  },
  {
   "cell_type": "code",
   "execution_count": 18,
   "id": "bff799ed",
   "metadata": {},
   "outputs": [
    {
     "name": "stdout",
     "output_type": "stream",
     "text": [
      "happy\n",
      "aiming\n",
      "intelligent\n"
     ]
    }
   ],
   "source": [
    "incorrect_words=['happpy', 'azmaing', 'intelliengt'] \n",
    "  \n",
    "# loop for finding correct spellings \n",
    "# based on edit distance and \n",
    "# printing the correct words \n",
    "for word in incorrect_words: \n",
    "    temp = [(edit_distance(word, w),w) for w in correct_words if w[0]==word[0]] \n",
    "    print(sorted(temp, key = lambda val:val[0])[0][1]) "
   ]
  },
  {
   "cell_type": "code",
   "execution_count": null,
   "id": "1341ada5",
   "metadata": {},
   "outputs": [],
   "source": []
  }
 ],
 "metadata": {
  "kernelspec": {
   "display_name": "Python 3 (ipykernel)",
   "language": "python",
   "name": "python3"
  },
  "language_info": {
   "codemirror_mode": {
    "name": "ipython",
    "version": 3
   },
   "file_extension": ".py",
   "mimetype": "text/x-python",
   "name": "python",
   "nbconvert_exporter": "python",
   "pygments_lexer": "ipython3",
   "version": "3.8.10"
  }
 },
 "nbformat": 4,
 "nbformat_minor": 5
}
